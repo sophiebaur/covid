{
 "cells": [
  {
   "cell_type": "markdown",
   "metadata": {},
   "source": [
    "# Homework 7: Version control and collaboration with Git and Github\n",
    "# 60 pts, Due Thursday May 20 at 11:59pm "
   ]
  },
  {
   "cell_type": "markdown",
   "metadata": {},
   "source": [
    "# **Helpful Resources:**# \n",
    "\n",
    "- [Getting help on a Jupyter Notebook](https://problemsolvingwithpython.com/02-Jupyter-Notebooks/02.07-Getting-Help-in-a-Jupyter-Notebook/)\n",
    "\n",
    "- [Python Examples](https://nbviewer.jupyter.org/urls/bitbucket.org/hrojas/learn-pandas/raw/master/lessons/Python_101.ipynb): A reference for distinct Python commands (worth returning to throughout this course)\n",
    "\n",
    "\n"
   ]
  },
  {
   "cell_type": "markdown",
   "metadata": {},
   "source": [
    "## *This week's* homework groups. \n",
    "\n",
    "Homework groups this week are:\n",
    "```\n",
    "[Riely Anton Michael] [Kei Alex] [Sophie Skyler]\n",
    "```\n",
    "\n",
    "You will need to work collaboratively with your group for Question 2."
   ]
  },
  {
   "cell_type": "markdown",
   "metadata": {},
   "source": [
    "## Question 1: Plotting Mauna Loa data while working with Git repository (30pts)\n",
    "The [Mauna Loa Observatory](https://en.wikipedia.org/wiki/Mauna_Loa_Observatory), on the Big Island of Hawaii, is the world's oldest continuous carbon dioxide (C02) monitoring station. In this exercise, I would like you make the `mauna_loa` directory, which already exists in this homework folder, a Git repository. You should make a Git commit for the initial state of the repository, which contains `mauna_loa.csv`, a file with CO2 data for last 60+ years, `ml.py`, a template for a python program you will complete, and `mauna_loa.ipynb`, the Jupyter notebook which will call functions from the .py file.<br><br>\n",
    "\n",
    "The goal is to make a plot with time in years since first measurement on horizontal axis and measured CO2 data on vertical axis. You can calculate years since first measurements by subtracting the decimal_date column from the first decimal_date measurement (`df['decimal_date'][0]`)\n",
    "\n",
    "Make commits as you complete the two function specified in `ml.py` that will accomplish this. These functions should be called via the commands in `mauna_loa.iynb`.  \n",
    "\n",
    "At some point in this process, you should create an empty repository on your remote Github site titled mauna_loa and sync the contents of the Github site with your local work.  Practice making changes at each location and pulling and pushing them. \n"
   ]
  },
  {
   "cell_type": "markdown",
   "metadata": {},
   "source": [
    "## Answer 1: \n",
    "I will examine your work on the remote repository as well as the local one. What is your 'github' handle so I can look for the remote work?"
   ]
  },
  {
   "cell_type": "markdown",
   "metadata": {},
   "source": [
    "sophiebaur"
   ]
  },
  {
   "cell_type": "markdown",
   "metadata": {},
   "source": [
    "## Question 2: Working collaboratively with Git and Github (30 pts)\n",
    "In this exercise, you will work collaboratively to write analysis and plotting routines that use data from the New York Times Covid-19 data repository.\n",
    "The final goal is to make three plots akin to  this one. One plot will have the three states with lowest average<br>\n",
    "<img src='states.svg' width=\"500px\" /><br>\n",
    "To do this, I would like you to collaboratively write the four functions defined in covid_plot.py.\n",
    "One member of your group should start by creating a new repository titled covid_plotting on GitHub and invite the other members of the group as collaborators. This repository should include a copy of `covid_plot.py`, which you will work on together. <br> \n",
    "Each member of the group should have a local git repository (equivalent to `mauna_loa`) which will be linked to the central single Github repository.\n",
    "\n",
    "Your analysis should be based on the csv file in our file server `/home/shared_data/covid-19-data/rolling-averages/us-states.csv`. Note that I cloned the `covid-19-data` directory (via a `git clone` command) from the [New York Times Covid-19 Github repository](https://github.com/nytimes/covid-19-data)\n",
    "\n",
    "I want your group to make an .ipynb file that that plots\n",
    "- the rolling average of the new cases per 100K for three states that you specify. Note that the key data is in the `cases_avg_per_100k` column.\n",
    "- the rolling average of new cases per 100K for the three states with the *lowest* overall covid cases per 100k. Lowest is defined as the lowest mean, averaging across all recorded days. (You should use the `groupby.agg` functionality we previously used to calculate this as well as the Pandas `sort_values` method\n",
    "- the rolling average for the three states with the *highest* overall covid cases per 100K.\n",
    "\n",
    "\n",
    "The .ipynb file chosuld contain the following lines (or something close to this), \n",
    "```\n",
    "#Code that should make plot\n",
    "import covid_plot\n",
    "df=covid_plot.read_in_data(filename)\n",
    "low_states,high_states=covid_plot.get_extreme_states(df)\n",
    "\n",
    "#Choose any three states that you like\n",
    "states=['Oregon','California','Texas']\n",
    "ax,cr_state=covid_plot.make_plot(df,states)\n",
    "covid_plot.modify_plot(ax)\n",
    "ax,cr_state=covid_plot.make_plot(df,low_states)\n",
    "covid_plot.modify_plot(ax)\n",
    "ax,cr_state=covid_plot.make_plot(df,high_states)\n",
    "covid_plot.modify_plot(ax)\n",
    "\n",
    "```\n",
    "<br>\n",
    "\n",
    "Your group should work together writing different functions on the `covid_plot.py` file, pulling and pushing commmits from the central repository. Note that the `make_plot` function depends on `read_in_data` but not on `get_extreme_states`, so functions can be written and tested in parallel. You should be able to work simultaneously and resolve any conflicts. \n",
    "I would like each member of the group to make some contribution (commit) to each function, even if it's inserting a comment. \n",
    "Your group's collective answer will be the github repository, which I will clone and test in class.\n",
    "Where is this Github repository?\n",
    "\n"
   ]
  },
  {
   "cell_type": "markdown",
   "metadata": {},
   "source": [
    "#### Answer 2:"
   ]
  },
  {
   "cell_type": "code",
   "execution_count": 1,
   "metadata": {},
   "outputs": [
    {
     "ename": "NameError",
     "evalue": "name 'skylerhar1' is not defined",
     "output_type": "error",
     "traceback": [
      "\u001b[0;31m---------------------------------------------------------------------------\u001b[0m",
      "\u001b[0;31mNameError\u001b[0m                                 Traceback (most recent call last)",
      "\u001b[0;32m<ipython-input-1-01e724627bbf>\u001b[0m in \u001b[0;36m<module>\u001b[0;34m\u001b[0m\n\u001b[0;32m----> 1\u001b[0;31m \u001b[0mskylerhar1\u001b[0m\u001b[0;34m/\u001b[0m\u001b[0mcovid_plotting\u001b[0m\u001b[0;34m\u001b[0m\u001b[0;34m\u001b[0m\u001b[0m\n\u001b[0m",
      "\u001b[0;31mNameError\u001b[0m: name 'skylerhar1' is not defined"
     ]
    }
   ],
   "source": [
    "skylerhar1/covid_plotting"
   ]
  },
  {
   "cell_type": "markdown",
   "metadata": {},
   "source": [
    "\n"
   ]
  }
 ],
 "metadata": {
  "kernelspec": {
   "display_name": "Python 3",
   "language": "python",
   "name": "python3"
  },
  "language_info": {
   "codemirror_mode": {
    "name": "ipython",
    "version": 3
   },
   "file_extension": ".py",
   "mimetype": "text/x-python",
   "name": "python",
   "nbconvert_exporter": "python",
   "pygments_lexer": "ipython3",
   "version": "3.7.9"
  }
 },
 "nbformat": 4,
 "nbformat_minor": 4
}
